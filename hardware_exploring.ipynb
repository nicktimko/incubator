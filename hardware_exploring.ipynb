{
 "cells": [
  {
   "cell_type": "code",
   "execution_count": 16,
   "metadata": {},
   "outputs": [],
   "source": [
    "# stdlib\n",
    "import enum\n",
    "import struct\n",
    "import time\n",
    "\n",
    "# util\n",
    "from see import see\n",
    "\n",
    "# rpi hardware\n",
    "from RPi import GPIO as gpio\n",
    "import smbus"
   ]
  },
  {
   "cell_type": "markdown",
   "metadata": {},
   "source": [
    "# Refs\n",
    "\n",
    "## SMBus/I<sup>2</sup>C\n",
    "\n",
    "* https://www.kernel.org/doc/Documentation/i2c/smbus-protocol (`smbus` seems to wrap these fairly directly)\n",
    "* http://raspberry-projects.com/pi/programming-in-python/i2c-programming-in-python/using-the-i2c-interface-2\n",
    "\n",
    "## MCP9808\n",
    "\n",
    "* https://cdn-shop.adafruit.com/datasheets/MCP9808.pdf"
   ]
  },
  {
   "cell_type": "code",
   "execution_count": 2,
   "metadata": {},
   "outputs": [],
   "source": [
    "heater = 5\n",
    "other = 6\n",
    "\n",
    "gpio.setmode(gpio.BCM)  # corresponds to the pins listed on the perma-proto hat\n",
    "gpio.setup(heater, gpio.OUT, initial=gpio.LOW)\n",
    "gpio.output(heater, gpio.HIGH)  # heater ON\n",
    "time.sleep(0.5)\n",
    "gpio.output(heater, gpio.LOW)  # heater OFF\n",
    "gpio.cleanup()  # reset pin state"
   ]
  },
  {
   "cell_type": "code",
   "execution_count": 2,
   "metadata": {},
   "outputs": [],
   "source": [
    "bus = smbus.SMBus(1)"
   ]
  },
  {
   "cell_type": "code",
   "execution_count": 191,
   "metadata": {},
   "outputs": [],
   "source": [
    "def byte_flip(word):\n",
    "    return int.from_bytes((word).to_bytes(2, \"little\"), \"big\")\n",
    "\n",
    "\n",
    "def byte_flip2(word):\n",
    "    msb, lsb = divmod(word, 256)\n",
    "    return lsb * 256 + msb\n",
    "\n",
    "\n",
    "for n in range(2**15):\n",
    "    assert byte_flip(n) == byte_flip2(n)\n",
    "    \n",
    "\n",
    "class MCP9808:\n",
    "    class Registers(enum.IntEnum):\n",
    "        CONFIG = 0b0001\n",
    "        T_UPPER = 0b0010\n",
    "        T_LOWER = 0b0011\n",
    "        T_CRIT = 0b0100\n",
    "        TEMP = 0b0101\n",
    "        MFC_ID = 0b0110\n",
    "        DEV_ID = 0b0111\n",
    "        RESOLUTION = 0b1000\n",
    "        \n",
    "    class Resolution(enum.IntEnum):\n",
    "        C_2 = 0b00  # t_CONV = 30 ms typ\n",
    "        C_4 = 0b01  # t_CONV = 60 ms typ\n",
    "        C_8 = 0b10  # t_CONV = 130 ms typ\n",
    "        C_16 = 0b11  # t_CONV = 250 ms typ, DEFAULT\n",
    "        \n",
    "    class Flags(enum.IntFlag):\n",
    "        T_CRITICAL = 0x8000\n",
    "        T_HIGH = 0x4000\n",
    "        T_LOW = 0x2000\n",
    "        \n",
    "    BASE_ADDRESS = 0x18\n",
    "    \n",
    "    # second byte is LSB on the datasheet, but smbus reads it as MSB. these values\n",
    "    # are byte-flipped to match what smbus will give.\n",
    "    MFC_ID = 0b0000_0000_0101_0100\n",
    "    DEV_ID = 0b0000_0100_0000_0000\n",
    "        \n",
    "    def __init__(self, smbus, address_bits=0b000):\n",
    "        self.smbus = smbus\n",
    "        self.address = self.BASE_ADDRESS + address_bits\n",
    "        \n",
    "        self._validate()\n",
    "        \n",
    "    def _read_word(self, register):\n",
    "        word = self.smbus.read_word_data(self.address, register)\n",
    "        return byte_flip(word)\n",
    "        \n",
    "    def _validate(self):\n",
    "        mfc_word = self._read_word(self.Registers.MFC_ID)\n",
    "        if mfc_word != self.MFC_ID:\n",
    "            raise RuntimeError(f\"manufacturer ID does not match! (received {mfc_word})\")\n",
    "        \n",
    "        dev_word = self._read_word(self.Registers.DEV_ID)\n",
    "        if dev_word != self.DEV_ID:\n",
    "            raise RuntimeError(f\"device ID/revision does not match! (received {dev_word})\")\n",
    "        \n",
    "    def _read_temp(self):\n",
    "        word = self._read_word(self.Registers.TEMP)\n",
    "        \n",
    "        # ripped as directly as possible from example 5.1 \n",
    "        # in DS25095A page 25\n",
    "        \n",
    "        ## THIS IS BROKEN FOR NEGATIVE TEMPS\n",
    "\n",
    "        UpperByte, LowerByte = divmod(word, 2**8)\n",
    "\n",
    "        # if ((UpperByte & 0x80) == 0x80){ //TA ³ TCRIT\n",
    "        # }\n",
    "        T_CRIT = (UpperByte & 0x80) == 0x80\n",
    "        # if ((UpperByte & 0x40) == 0x40){ //TA > TUPPER\n",
    "        # }\n",
    "        T_HIGH = (UpperByte & 0x40) == 0x40\n",
    "        # if ((UpperByte & 0x20) == 0x20){ //TA < TLOWER\n",
    "        # }\n",
    "        T_LOW = (UpperByte & 0x20) == 0x20\n",
    "\n",
    "        UpperByte = UpperByte & 0x1F #//Clear flag bits\n",
    "        # if ((UpperByte & 0x10) == 0x10){ //TA < 0°C\n",
    "        if ((UpperByte & 0x10) == 0x10):\n",
    "            # UpperByte = UpperByte & 0x0F; //Clear SIGN\n",
    "            UpperByte = UpperByte & 0x0F#; //Clear SIGN\n",
    "            # Temperature = 256 - (UpperByte x 16 + LowerByte / 16);\n",
    "            Temperature = 256 - (UpperByte * 16 + LowerByte / 16)\n",
    "        # }else //TA ³ 0°C\n",
    "        else:\n",
    "            Temperature = (UpperByte * 16 + LowerByte / 16)\n",
    "        # //Temperature = Ambient Temperature (°C)\n",
    "\n",
    "        return T_CRIT, T_HIGH, T_LOW, Temperature\n",
    "        \n",
    "    def _read_temp_2(self):\n",
    "        word = self._read_word(self.Registers.TEMP)\n",
    "        flags = self.Flags(word & 0xE000)\n",
    "        \n",
    "        if word & 0x1000:\n",
    "            word = word & 0x0FFF\n",
    "            return flags, (word / 16) - 256\n",
    "\n",
    "        return flags, (word & 0x1FFF) / 16\n",
    "        \n",
    "    @property\n",
    "    def T(self):\n",
    "        flags, temp = self._read_temp_2()\n",
    "        return temp\n",
    "    \n",
    "    @property\n",
    "    def resolution(self):\n",
    "        res = self.smbus.read_byte_data(self.address, self.Registers.RESOLUTION)\n",
    "        return self.Resolution(res)\n",
    "    \n",
    "    @resolution.setter\n",
    "    def resolution(self, value):\n",
    "        self.smbus.write_byte_data(self.address, self.Registers.RESOLUTION, value)"
   ]
  },
  {
   "cell_type": "code",
   "execution_count": 114,
   "metadata": {},
   "outputs": [],
   "source": [
    "def ref_function(word):\n",
    "    # ripped as directly as possible from example 5.1 \n",
    "    # in DS25095A page 25\n",
    "\n",
    "    UpperByte, LowerByte = divmod(word, 2**8)\n",
    "\n",
    "    # if ((UpperByte & 0x80) == 0x80){ //TA ³ TCRIT\n",
    "    # }\n",
    "    T_CRIT = (UpperByte & 0x80) == 0x80\n",
    "    # if ((UpperByte & 0x40) == 0x40){ //TA > TUPPER\n",
    "    # }\n",
    "    T_HIGH = (UpperByte & 0x40) == 0x40\n",
    "    # if ((UpperByte & 0x20) == 0x20){ //TA < TLOWER\n",
    "    # }\n",
    "    T_LOW = (UpperByte & 0x20) == 0x20\n",
    "\n",
    "    UpperByte = UpperByte & 0x1F #//Clear flag bits\n",
    "    # if ((UpperByte & 0x10) == 0x10){ //TA < 0°C\n",
    "    if ((UpperByte & 0x10) == 0x10):\n",
    "        # UpperByte = UpperByte & 0x0F; //Clear SIGN\n",
    "        UpperByte = UpperByte & 0x0F#; //Clear SIGN\n",
    "        # Temperature = 256 - (UpperByte x 16 + LowerByte / 16);\n",
    "        Temperature = 256 - (UpperByte * 16 + LowerByte / 16)\n",
    "    # }else //TA ³ 0°C\n",
    "    else:\n",
    "        Temperature = (UpperByte * 16 + LowerByte / 16)\n",
    "    # //Temperature = Ambient Temperature (°C)\n",
    "\n",
    "#     return T_CRIT, T_HIGH, T_LOW, Temperature\n",
    "    return Temperature"
   ]
  },
  {
   "cell_type": "code",
   "execution_count": 115,
   "metadata": {},
   "outputs": [],
   "source": [
    "def adafruit_func(word):\n",
    "    buf = bytearray(3)\n",
    "    buf[1], buf[2] = divmod(word, 256)\n",
    "    \n",
    "    buf[1] = buf[1] & 0x1f\n",
    "    if buf[1] & 0x10 == 0x10:\n",
    "        buf[1] = buf[1] & 0x0f\n",
    "        return (buf[1] * 16 + buf[2] / 16.0) - 256\n",
    "    return buf[1] * 16 + buf[2] / 16.0"
   ]
  },
  {
   "cell_type": "code",
   "execution_count": 122,
   "metadata": {},
   "outputs": [],
   "source": [
    "def pract_func(word):\n",
    "    msb, lsb = divmod(word, 256)\n",
    "    \n",
    "    if msb & 0x10:\n",
    "        msb = msb & 0x0f\n",
    "        return (msb * 16 + lsb / 16) - 256\n",
    "    \n",
    "    msb = msb & 0x1f\n",
    "    return msb * 16 + lsb / 16"
   ]
  },
  {
   "cell_type": "code",
   "execution_count": 124,
   "metadata": {},
   "outputs": [],
   "source": [
    "def pract_func2(word):\n",
    "    if word & 0x1000:\n",
    "        word = word & 0x0FFF\n",
    "        return (word / 16) - 256\n",
    "    \n",
    "    return (word & 0x1FFF) / 16"
   ]
  },
  {
   "cell_type": "code",
   "execution_count": 117,
   "metadata": {},
   "outputs": [
    {
     "data": {
      "text/plain": [
       "-0.0625"
      ]
     },
     "execution_count": 117,
     "metadata": {},
     "output_type": "execute_result"
    }
   ],
   "source": [
    "adafruit_func(0b1_1111_1111_1111)"
   ]
  },
  {
   "cell_type": "code",
   "execution_count": 116,
   "metadata": {},
   "outputs": [
    {
     "data": {
      "text/plain": [
       "0.0625"
      ]
     },
     "execution_count": 116,
     "metadata": {},
     "output_type": "execute_result"
    }
   ],
   "source": [
    "ref_function(0b1_1111_1111_1111)"
   ]
  },
  {
   "cell_type": "code",
   "execution_count": 126,
   "metadata": {},
   "outputs": [
    {
     "data": {
      "text/plain": [
       "65536"
      ]
     },
     "execution_count": 126,
     "metadata": {},
     "output_type": "execute_result"
    }
   ],
   "source": [
    "match = 0\n",
    "for n in range(2**16):\n",
    "    if adafruit_func(n) == pract_func2(n):\n",
    "        match += 1\n",
    "match"
   ]
  },
  {
   "cell_type": "code",
   "execution_count": 48,
   "metadata": {},
   "outputs": [],
   "source": [
    "smbus_device = 1\n",
    "bus = smbus.SMBus(smbus_device)"
   ]
  },
  {
   "cell_type": "code",
   "execution_count": 192,
   "metadata": {},
   "outputs": [],
   "source": [
    "mcp9808 = MCP9808(bus, 0b000)"
   ]
  },
  {
   "cell_type": "code",
   "execution_count": 182,
   "metadata": {},
   "outputs": [],
   "source": [
    "mcp9808.resolution = mcp9808.Resolution.C_16"
   ]
  },
  {
   "cell_type": "code",
   "execution_count": 98,
   "metadata": {},
   "outputs": [
    {
     "data": {
      "text/plain": [
       "    <                        <=                       ==\n",
       "    !=                       >                        >=\n",
       "    dir()                    hash()                   help()\n",
       "    repr()                   str()                    .block_process_call()\n",
       "    .close()                 .dealloc()               .open()\n",
       "    .pec                     .process_call()          .read_block_data()\n",
       "    .read_byte()             .read_byte_data()        .read_i2c_block_data()\n",
       "    .read_word_data()        .write_block_data()      .write_byte()\n",
       "    .write_byte_data()       .write_i2c_block_data()\n",
       "    .write_quick()           .write_word_data()"
      ]
     },
     "execution_count": 98,
     "metadata": {},
     "output_type": "execute_result"
    }
   ],
   "source": [
    "see(bus)"
   ]
  },
  {
   "cell_type": "code",
   "execution_count": 10,
   "metadata": {},
   "outputs": [],
   "source": [
    "# Resolution settings\n",
    "HALF_C = 0x0\n",
    "QUARTER_C = 0x1\n",
    "EIGHTH_C = 0x2\n",
    "SIXTEENTH_C = 0x3\n",
    "\n",
    "class MCP9808:\n",
    "    \"\"\"Interface to the MCP9808 temperature sensor.\"\"\"\n",
    "\n",
    "    # alert_lower_temperature_bound\n",
    "    # alert_upper_temperature_bound\n",
    "    # critical_temperature\n",
    "    # temperature\n",
    "    # temperature_resolution\n",
    "\n",
    "    def __init__(self, smbus, address=0x18):\n",
    "#         self.i2c_device = I2CDevice(i2c_bus, address)\n",
    "        self.smbus = smbus\n",
    "\n",
    "        # Verify the manufacturer and device ids to ensure we are talking to\n",
    "        # what we expect.\n",
    "        self.buf = bytearray(3)\n",
    "        self.buf[0] = 0x06\n",
    "#         with self.i2c_device as i2c:\n",
    "#             i2c.write(self.buf, end=1, stop=False)\n",
    "#             i2c.readinto(self.buf, start=1)\n",
    "        self.smbus \n",
    "\n",
    "        ok = self.buf[2] == 0x54 and self.buf[1] == 0\n",
    "\n",
    "        # Check device id.\n",
    "        self.buf[0] = 0x07\n",
    "        with self.i2c_device as i2c:\n",
    "            i2c.write(self.buf, end=1, stop=False)\n",
    "            i2c.readinto(self.buf, start=1)\n",
    "\n",
    "        if not ok or self.buf[1] != 0x04:\n",
    "            raise ValueError(\"Unable to find MCP9808 at i2c address \" + str(hex(address)))\n",
    "\n",
    "    @property\n",
    "    def temperature(self):\n",
    "        \"\"\"Temperature in celsius.\"\"\"\n",
    "        self.buf[0] = 0x05\n",
    "        with self.i2c_device as i2c:\n",
    "            i2c.write(self.buf, end=1, stop=False)\n",
    "            i2c.readinto(self.buf, start=1)\n",
    "\n",
    "        # Clear flags from the value\n",
    "        self.buf[1] = self.buf[1] & 0x1f\n",
    "        if self.buf[1] & 0x10 == 0x10:\n",
    "            self.buf[1] = self.buf[1] & 0x0f\n",
    "            return (self.buf[1] * 16 + self.buf[2] / 16.0) - 256\n",
    "        return self.buf[1] * 16 + self.buf[2] / 16.0"
   ]
  },
  {
   "cell_type": "code",
   "execution_count": 9,
   "metadata": {},
   "outputs": [],
   "source": [
    "mcp9808_address = 0x18\n"
   ]
  },
  {
   "cell_type": "code",
   "execution_count": null,
   "metadata": {},
   "outputs": [],
   "source": [
    "bus.write_i2c_block_data(address, reg_write_dac, msg)"
   ]
  },
  {
   "cell_type": "markdown",
   "metadata": {},
   "source": [
    "# Heat Pulse"
   ]
  },
  {
   "cell_type": "code",
   "execution_count": 208,
   "metadata": {},
   "outputs": [],
   "source": [
    "%matplotlib inline\n",
    "\n",
    "import matplotlib\n",
    "matplotlib.use(\"agg\")\n",
    "\n",
    "import matplotlib.pyplot as plt"
   ]
  },
  {
   "cell_type": "code",
   "execution_count": 211,
   "metadata": {},
   "outputs": [
    {
     "data": {
      "text/plain": [
       "[<matplotlib.lines.Line2D at 0x6c738730>]"
      ]
     },
     "execution_count": 211,
     "metadata": {},
     "output_type": "execute_result"
    }
   ],
   "source": [
    "f, ax = plt.subplots()\n",
    "ax.plot([1, 2, 5, 15])"
   ]
  },
  {
   "cell_type": "code",
   "execution_count": 212,
   "metadata": {},
   "outputs": [],
   "source": [
    "f.show()"
   ]
  },
  {
   "cell_type": "code",
   "execution_count": 213,
   "metadata": {},
   "outputs": [],
   "source": [
    "bus.close()"
   ]
  },
  {
   "cell_type": "code",
   "execution_count": null,
   "metadata": {},
   "outputs": [],
   "source": []
  }
 ],
 "metadata": {
  "kernelspec": {
   "display_name": "Python 3",
   "language": "python",
   "name": "python3"
  },
  "language_info": {
   "codemirror_mode": {
    "name": "ipython",
    "version": 3
   },
   "file_extension": ".py",
   "mimetype": "text/x-python",
   "name": "python",
   "nbconvert_exporter": "python",
   "pygments_lexer": "ipython3",
   "version": "3.7.1"
  }
 },
 "nbformat": 4,
 "nbformat_minor": 2
}
